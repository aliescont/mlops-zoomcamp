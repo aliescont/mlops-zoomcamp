{
 "cells": [
  {
   "cell_type": "code",
   "execution_count": 12,
   "metadata": {},
   "outputs": [],
   "source": [
    "from datetime import date, datetime\n",
    "from dateutil.relativedelta import relativedelta"
   ]
  },
  {
   "cell_type": "code",
   "execution_count": 29,
   "metadata": {},
   "outputs": [],
   "source": [
    "def get_path(input_date=None):\n",
    "    if input_date == None or input_date == '':\n",
    "        input_date = date.today()\n",
    "    else:\n",
    "        input_date =  datetime.strptime(input_date, '%Y-%m-%d')\n",
    "    \n",
    "    train_date = input_date - relativedelta(months=2)\n",
    "    val_date = input_date - relativedelta(months=1)\n",
    "    \n",
    "    train_path = f'./data/fhv_tripdata_{train_date.strftime(\"%Y-%m\")}.parquet'\n",
    "    val_path = f'./data/fhv_tripdata_{val_date.strftime(\"%Y-%m\")}.parquet'\n",
    "    train_url = f'https://nyc-tlc.s3.amazonaws.com/trip+data/fhv_tripdata_{train_date.strftime(\"%Y-%m\")}.parquet'\n",
    "    val_url = f'https://nyc-tlc.s3.amazonaws.com/trip+data/fhv_tripdata_{val_date.strftime(\"%Y-%m\")}.parquet'\n",
    "    \n",
    "    return train_path,val_path, train_url, val_url"
   ]
  },
  {
   "cell_type": "code",
   "execution_count": 13,
   "metadata": {},
   "outputs": [
    {
     "data": {
      "text/plain": [
       "datetime.date(2022, 6, 12)"
      ]
     },
     "execution_count": 13,
     "metadata": {},
     "output_type": "execute_result"
    }
   ],
   "source": [
    "date.today()"
   ]
  },
  {
   "cell_type": "code",
   "execution_count": 30,
   "metadata": {},
   "outputs": [
    {
     "data": {
      "text/plain": [
       "('./data/fhv_tripdata_2022-04.parquet', './data/fhv_tripdata_2022-05.parquet')"
      ]
     },
     "execution_count": 30,
     "metadata": {},
     "output_type": "execute_result"
    }
   ],
   "source": [
    "get_path()"
   ]
  },
  {
   "cell_type": "code",
   "execution_count": null,
   "metadata": {},
   "outputs": [],
   "source": [
    "def read_data(path):\n",
    "    try:\n",
    "        df = pd.read_parquet(path)\n",
    "    except FileNotFoundError:\n",
    "        wget(f'https://nyc-tlc.s3.amazonaws.com/trip+data/fhv_tripdata_.parquet')\n",
    "    return df"
   ]
  },
  {
   "cell_type": "code",
   "execution_count": null,
   "metadata": {},
   "outputs": [],
   "source": [
    "https://nyc-tlc.s3.amazonaws.com/trip+data/fhv_tripdata_2022-02.parquet"
   ]
  },
  {
   "cell_type": "code",
   "execution_count": null,
   "metadata": {},
   "outputs": [],
   "source": [
    "'https://nyc-tlc.s3.amazonaws.com/trip+data/'+get_path()[0]"
   ]
  }
 ],
 "metadata": {
  "kernelspec": {
   "display_name": "Python 3.9.12 ('exp-tracking-env')",
   "language": "python",
   "name": "python3"
  },
  "language_info": {
   "codemirror_mode": {
    "name": "ipython",
    "version": 3
   },
   "file_extension": ".py",
   "mimetype": "text/x-python",
   "name": "python",
   "nbconvert_exporter": "python",
   "pygments_lexer": "ipython3",
   "version": "3.9.12"
  },
  "orig_nbformat": 4,
  "vscode": {
   "interpreter": {
    "hash": "28b64ab469a48a0c250e8d59bd611e7be18157868e9c55fbe8ccf7861d9bf740"
   }
  }
 },
 "nbformat": 4,
 "nbformat_minor": 2
}
