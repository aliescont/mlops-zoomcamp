{
 "cells": [
  {
   "cell_type": "code",
   "execution_count": 2,
   "id": "2c51efaa",
   "metadata": {},
   "outputs": [
    {
     "name": "stdout",
     "output_type": "stream",
     "text": [
      "scikit-learn==1.1.1\n"
     ]
    }
   ],
   "source": [
    "!pip freeze | grep scikit-learn"
   ]
  },
  {
   "cell_type": "code",
   "execution_count": 3,
   "id": "0ef880a0",
   "metadata": {},
   "outputs": [],
   "source": [
    "import pickle\n",
    "import pandas as pd"
   ]
  },
  {
   "cell_type": "code",
   "execution_count": 4,
   "id": "7836ccfd",
   "metadata": {},
   "outputs": [
    {
     "name": "stderr",
     "output_type": "stream",
     "text": [
      "/home/ubuntu/anaconda3/envs/exp-tracking-env/lib/python3.9/site-packages/sklearn/base.py:329: UserWarning: Trying to unpickle estimator DictVectorizer from version 1.0.2 when using version 1.1.1. This might lead to breaking code or invalid results. Use at your own risk. For more info please refer to:\n",
      "https://scikit-learn.org/stable/model_persistence.html#security-maintainability-limitations\n",
      "  warnings.warn(\n",
      "/home/ubuntu/anaconda3/envs/exp-tracking-env/lib/python3.9/site-packages/sklearn/base.py:329: UserWarning: Trying to unpickle estimator LinearRegression from version 1.0.2 when using version 1.1.1. This might lead to breaking code or invalid results. Use at your own risk. For more info please refer to:\n",
      "https://scikit-learn.org/stable/model_persistence.html#security-maintainability-limitations\n",
      "  warnings.warn(\n"
     ]
    }
   ],
   "source": [
    "with open('model.bin', 'rb') as f_in:\n",
    "    dv, lr = pickle.load(f_in)"
   ]
  },
  {
   "cell_type": "code",
   "execution_count": 6,
   "id": "41c08294",
   "metadata": {},
   "outputs": [],
   "source": [
    "categorical = ['PUlocationID', 'DOlocationID']\n",
    "\n",
    "def read_data(filename):\n",
    "    df = pd.read_parquet(filename)\n",
    "    \n",
    "    df['duration'] = df.dropOff_datetime - df.pickup_datetime\n",
    "    df['duration'] = df.duration.dt.total_seconds() / 60\n",
    "\n",
    "    df = df[(df.duration >= 1) & (df.duration <= 60)].copy()\n",
    "\n",
    "    df[categorical] = df[categorical].fillna(-1).astype('int').astype('str')\n",
    "    \n",
    "    return df"
   ]
  },
  {
   "cell_type": "code",
   "execution_count": 7,
   "id": "4854399a",
   "metadata": {},
   "outputs": [],
   "source": [
    "df = read_data('https://nyc-tlc.s3.amazonaws.com/trip+data/fhv_tripdata_2021-02.parquet')"
   ]
  },
  {
   "cell_type": "code",
   "execution_count": 8,
   "id": "669fda0a",
   "metadata": {},
   "outputs": [],
   "source": [
    "dicts = df[categorical].to_dict(orient='records')\n",
    "X_val = dv.transform(dicts)\n",
    "y_pred = lr.predict(X_val)"
   ]
  },
  {
   "cell_type": "code",
   "execution_count": 9,
   "id": "6f8c0833",
   "metadata": {},
   "outputs": [
    {
     "data": {
      "text/plain": [
       "16.191691679979066"
      ]
     },
     "execution_count": 9,
     "metadata": {},
     "output_type": "execute_result"
    }
   ],
   "source": [
    "import numpy as np\n",
    "np.mean(y_pred)"
   ]
  },
  {
   "cell_type": "code",
   "execution_count": 11,
   "id": "6340d092",
   "metadata": {},
   "outputs": [
    {
     "data": {
      "text/html": [
       "<div>\n",
       "<style scoped>\n",
       "    .dataframe tbody tr th:only-of-type {\n",
       "        vertical-align: middle;\n",
       "    }\n",
       "\n",
       "    .dataframe tbody tr th {\n",
       "        vertical-align: top;\n",
       "    }\n",
       "\n",
       "    .dataframe thead th {\n",
       "        text-align: right;\n",
       "    }\n",
       "</style>\n",
       "<table border=\"1\" class=\"dataframe\">\n",
       "  <thead>\n",
       "    <tr style=\"text-align: right;\">\n",
       "      <th></th>\n",
       "      <th>dispatching_base_num</th>\n",
       "      <th>pickup_datetime</th>\n",
       "      <th>dropOff_datetime</th>\n",
       "      <th>PUlocationID</th>\n",
       "      <th>DOlocationID</th>\n",
       "      <th>SR_Flag</th>\n",
       "      <th>Affiliated_base_number</th>\n",
       "      <th>duration</th>\n",
       "    </tr>\n",
       "  </thead>\n",
       "  <tbody>\n",
       "    <tr>\n",
       "      <th>1</th>\n",
       "      <td>B00021</td>\n",
       "      <td>2021-02-01 00:55:40</td>\n",
       "      <td>2021-02-01 01:06:20</td>\n",
       "      <td>173</td>\n",
       "      <td>82</td>\n",
       "      <td>NaN</td>\n",
       "      <td>B00021</td>\n",
       "      <td>10.666667</td>\n",
       "    </tr>\n",
       "    <tr>\n",
       "      <th>2</th>\n",
       "      <td>B00021</td>\n",
       "      <td>2021-02-01 00:14:03</td>\n",
       "      <td>2021-02-01 00:28:37</td>\n",
       "      <td>173</td>\n",
       "      <td>56</td>\n",
       "      <td>NaN</td>\n",
       "      <td>B00021</td>\n",
       "      <td>14.566667</td>\n",
       "    </tr>\n",
       "    <tr>\n",
       "      <th>3</th>\n",
       "      <td>B00021</td>\n",
       "      <td>2021-02-01 00:27:48</td>\n",
       "      <td>2021-02-01 00:35:45</td>\n",
       "      <td>82</td>\n",
       "      <td>129</td>\n",
       "      <td>NaN</td>\n",
       "      <td>B00021</td>\n",
       "      <td>7.950000</td>\n",
       "    </tr>\n",
       "    <tr>\n",
       "      <th>4</th>\n",
       "      <td>B00037</td>\n",
       "      <td>2021-02-01 00:12:50</td>\n",
       "      <td>2021-02-01 00:26:38</td>\n",
       "      <td>-1</td>\n",
       "      <td>225</td>\n",
       "      <td>NaN</td>\n",
       "      <td>B00037</td>\n",
       "      <td>13.800000</td>\n",
       "    </tr>\n",
       "    <tr>\n",
       "      <th>5</th>\n",
       "      <td>B00037</td>\n",
       "      <td>2021-02-01 00:00:37</td>\n",
       "      <td>2021-02-01 00:09:35</td>\n",
       "      <td>-1</td>\n",
       "      <td>61</td>\n",
       "      <td>NaN</td>\n",
       "      <td>B00037</td>\n",
       "      <td>8.966667</td>\n",
       "    </tr>\n",
       "  </tbody>\n",
       "</table>\n",
       "</div>"
      ],
      "text/plain": [
       "  dispatching_base_num     pickup_datetime    dropOff_datetime PUlocationID  \\\n",
       "1      B00021          2021-02-01 00:55:40 2021-02-01 01:06:20          173   \n",
       "2      B00021          2021-02-01 00:14:03 2021-02-01 00:28:37          173   \n",
       "3      B00021          2021-02-01 00:27:48 2021-02-01 00:35:45           82   \n",
       "4               B00037 2021-02-01 00:12:50 2021-02-01 00:26:38           -1   \n",
       "5               B00037 2021-02-01 00:00:37 2021-02-01 00:09:35           -1   \n",
       "\n",
       "  DOlocationID  SR_Flag Affiliated_base_number   duration  \n",
       "1           82      NaN        B00021           10.666667  \n",
       "2           56      NaN        B00021           14.566667  \n",
       "3          129      NaN        B00021            7.950000  \n",
       "4          225      NaN                 B00037  13.800000  \n",
       "5           61      NaN                 B00037   8.966667  "
      ]
     },
     "execution_count": 11,
     "metadata": {},
     "output_type": "execute_result"
    }
   ],
   "source": [
    "df.head()"
   ]
  },
  {
   "cell_type": "code",
   "execution_count": 13,
   "id": "fe632114",
   "metadata": {},
   "outputs": [
    {
     "data": {
      "text/plain": [
       "1                2021/02_1\n",
       "2                2021/02_2\n",
       "3                2021/02_3\n",
       "4                2021/02_4\n",
       "5                2021/02_5\n",
       "                ...       \n",
       "1037687    2021/02_1037687\n",
       "1037688    2021/02_1037688\n",
       "1037689    2021/02_1037689\n",
       "1037690    2021/02_1037690\n",
       "1037691    2021/02_1037691\n",
       "Name: ride_id, Length: 990113, dtype: object"
      ]
     },
     "execution_count": 13,
     "metadata": {},
     "output_type": "execute_result"
    }
   ],
   "source": [
    "\n",
    "df['ride_id'] = f'{2021:04d}/{2:02d}_' + df.index.astype('str')\n",
    "df['ride_id']"
   ]
  },
  {
   "cell_type": "code",
   "execution_count": 20,
   "id": "b36bc16b",
   "metadata": {},
   "outputs": [],
   "source": [
    "df_result = pd.DataFrame()\n",
    "df_result['ride_id'] = df[['ride_id']]\n",
    "df_result['pred'] = y_pred\n",
    "\n",
    "df_result.to_parquet(\n",
    "    'df_results.parquet',\n",
    "    engine='pyarrow',\n",
    "    compression=None,\n",
    "    index=False\n",
    ")"
   ]
  }
 ],
 "metadata": {
  "kernelspec": {
   "display_name": "Python 3.9.12 ('exp-tracking-env')",
   "language": "python",
   "name": "python3"
  },
  "language_info": {
   "codemirror_mode": {
    "name": "ipython",
    "version": 3
   },
   "file_extension": ".py",
   "mimetype": "text/x-python",
   "name": "python",
   "nbconvert_exporter": "python",
   "pygments_lexer": "ipython3",
   "version": "3.9.12"
  },
  "vscode": {
   "interpreter": {
    "hash": "28b64ab469a48a0c250e8d59bd611e7be18157868e9c55fbe8ccf7861d9bf740"
   }
  }
 },
 "nbformat": 4,
 "nbformat_minor": 5
}
